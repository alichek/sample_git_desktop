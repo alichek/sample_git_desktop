{
 "cells": [
  {
   "cell_type": "code",
   "execution_count": 10,
   "id": "17548e9c",
   "metadata": {},
   "outputs": [],
   "source": [
    "# # Alec Gitelman\n",
    "# Homework 1, Part 1"
   ]
  },
  {
   "cell_type": "code",
   "execution_count": 11,
   "id": "0fecb0c9",
   "metadata": {},
   "outputs": [],
   "source": [
    "# documentation\n",
    "# https://pokeapi.co/docs/v2\n",
    "\n"
   ]
  },
  {
   "cell_type": "code",
   "execution_count": 12,
   "id": "a31b7064",
   "metadata": {},
   "outputs": [
    {
     "name": "stdout",
     "output_type": "stream",
     "text": [
      "<Response [200]>\n"
     ]
    }
   ],
   "source": [
    "import requests\n",
    "\n",
    "url = \"https://pokeapi.co/api/v2/pokemon/55\"\n",
    "response = requests.get(url)\n",
    "print(response)"
   ]
  },
  {
   "cell_type": "code",
   "execution_count": 13,
   "id": "cb0d6028",
   "metadata": {},
   "outputs": [],
   "source": [
    "data = response.json()"
   ]
  },
  {
   "cell_type": "code",
   "execution_count": 14,
   "id": "50770b08",
   "metadata": {},
   "outputs": [
    {
     "name": "stdout",
     "output_type": "stream",
     "text": [
      "Pokemon 55 is:  golduck\n"
     ]
    }
   ],
   "source": [
    "print('Pokemon 55 is: ', data['name'])"
   ]
  },
  {
   "cell_type": "code",
   "execution_count": 15,
   "id": "54e78469",
   "metadata": {},
   "outputs": [
    {
     "name": "stdout",
     "output_type": "stream",
     "text": [
      "<Response [200]>\n"
     ]
    }
   ],
   "source": [
    "url = \"https://pokeapi.co/api/v2/pokemon/55/\"\n",
    "response = requests.get(url)\n",
    "print(response)"
   ]
  },
  {
   "cell_type": "code",
   "execution_count": 16,
   "id": "ebcf794a",
   "metadata": {},
   "outputs": [],
   "source": [
    "data = response.json()"
   ]
  },
  {
   "cell_type": "code",
   "execution_count": 17,
   "id": "c9950193",
   "metadata": {},
   "outputs": [
    {
     "name": "stdout",
     "output_type": "stream",
     "text": [
      "Pokemon 55 is:  golduck\n"
     ]
    }
   ],
   "source": [
    "print('Pokemon 55 is: ', data['name'])"
   ]
  },
  {
   "cell_type": "code",
   "execution_count": 18,
   "id": "8d617d34",
   "metadata": {},
   "outputs": [
    {
     "name": "stdout",
     "output_type": "stream",
     "text": [
      "its height is:  17\n"
     ]
    }
   ],
   "source": [
    "print('its height is: ', data['height'])"
   ]
  },
  {
   "cell_type": "code",
   "execution_count": 19,
   "id": "585c96ab",
   "metadata": {},
   "outputs": [
    {
     "name": "stdout",
     "output_type": "stream",
     "text": [
      "<Response [200]>\n"
     ]
    }
   ],
   "source": [
    "url = \"https://pokeapi.co/api/v2/version\"\n",
    "response = requests.get(url)\n",
    "print(response)"
   ]
  },
  {
   "cell_type": "code",
   "execution_count": 20,
   "id": "881d7626",
   "metadata": {},
   "outputs": [
    {
     "name": "stdout",
     "output_type": "stream",
     "text": [
      "{'count': 43, 'next': 'https://pokeapi.co/api/v2/version?offset=20&limit=20', 'previous': None, 'results': [{'name': 'red', 'url': 'https://pokeapi.co/api/v2/version/1/'}, {'name': 'blue', 'url': 'https://pokeapi.co/api/v2/version/2/'}, {'name': 'yellow', 'url': 'https://pokeapi.co/api/v2/version/3/'}, {'name': 'gold', 'url': 'https://pokeapi.co/api/v2/version/4/'}, {'name': 'silver', 'url': 'https://pokeapi.co/api/v2/version/5/'}, {'name': 'crystal', 'url': 'https://pokeapi.co/api/v2/version/6/'}, {'name': 'ruby', 'url': 'https://pokeapi.co/api/v2/version/7/'}, {'name': 'sapphire', 'url': 'https://pokeapi.co/api/v2/version/8/'}, {'name': 'emerald', 'url': 'https://pokeapi.co/api/v2/version/9/'}, {'name': 'firered', 'url': 'https://pokeapi.co/api/v2/version/10/'}, {'name': 'leafgreen', 'url': 'https://pokeapi.co/api/v2/version/11/'}, {'name': 'diamond', 'url': 'https://pokeapi.co/api/v2/version/12/'}, {'name': 'pearl', 'url': 'https://pokeapi.co/api/v2/version/13/'}, {'name': 'platinum', 'url': 'https://pokeapi.co/api/v2/version/14/'}, {'name': 'heartgold', 'url': 'https://pokeapi.co/api/v2/version/15/'}, {'name': 'soulsilver', 'url': 'https://pokeapi.co/api/v2/version/16/'}, {'name': 'black', 'url': 'https://pokeapi.co/api/v2/version/17/'}, {'name': 'white', 'url': 'https://pokeapi.co/api/v2/version/18/'}, {'name': 'colosseum', 'url': 'https://pokeapi.co/api/v2/version/19/'}, {'name': 'xd', 'url': 'https://pokeapi.co/api/v2/version/20/'}]}\n"
     ]
    }
   ],
   "source": [
    "versions = response.json()\n",
    "print(versions)"
   ]
  },
  {
   "cell_type": "code",
   "execution_count": 21,
   "id": "2f163fe2",
   "metadata": {},
   "outputs": [
    {
     "name": "stdout",
     "output_type": "stream",
     "text": [
      "[{'name': 'red', 'url': 'https://pokeapi.co/api/v2/version/1/'}, {'name': 'blue', 'url': 'https://pokeapi.co/api/v2/version/2/'}, {'name': 'yellow', 'url': 'https://pokeapi.co/api/v2/version/3/'}, {'name': 'gold', 'url': 'https://pokeapi.co/api/v2/version/4/'}, {'name': 'silver', 'url': 'https://pokeapi.co/api/v2/version/5/'}, {'name': 'crystal', 'url': 'https://pokeapi.co/api/v2/version/6/'}, {'name': 'ruby', 'url': 'https://pokeapi.co/api/v2/version/7/'}, {'name': 'sapphire', 'url': 'https://pokeapi.co/api/v2/version/8/'}, {'name': 'emerald', 'url': 'https://pokeapi.co/api/v2/version/9/'}, {'name': 'firered', 'url': 'https://pokeapi.co/api/v2/version/10/'}, {'name': 'leafgreen', 'url': 'https://pokeapi.co/api/v2/version/11/'}, {'name': 'diamond', 'url': 'https://pokeapi.co/api/v2/version/12/'}, {'name': 'pearl', 'url': 'https://pokeapi.co/api/v2/version/13/'}, {'name': 'platinum', 'url': 'https://pokeapi.co/api/v2/version/14/'}, {'name': 'heartgold', 'url': 'https://pokeapi.co/api/v2/version/15/'}, {'name': 'soulsilver', 'url': 'https://pokeapi.co/api/v2/version/16/'}, {'name': 'black', 'url': 'https://pokeapi.co/api/v2/version/17/'}, {'name': 'white', 'url': 'https://pokeapi.co/api/v2/version/18/'}, {'name': 'colosseum', 'url': 'https://pokeapi.co/api/v2/version/19/'}, {'name': 'xd', 'url': 'https://pokeapi.co/api/v2/version/20/'}]\n"
     ]
    },
    {
     "data": {
      "text/plain": [
       "list"
      ]
     },
     "execution_count": 21,
     "metadata": {},
     "output_type": "execute_result"
    }
   ],
   "source": [
    "version_list = versions['results']\n",
    "print(version_list)\n",
    "type(version_list)"
   ]
  },
  {
   "cell_type": "code",
   "execution_count": 22,
   "id": "d67c4a06",
   "metadata": {},
   "outputs": [
    {
     "name": "stdout",
     "output_type": "stream",
     "text": [
      "{'name': 'xd', 'url': 'https://pokeapi.co/api/v2/version/20/'}\n"
     ]
    },
    {
     "data": {
      "text/plain": [
       "dict"
      ]
     },
     "execution_count": 22,
     "metadata": {},
     "output_type": "execute_result"
    }
   ],
   "source": [
    "last_version = version_list[-1]\n",
    "print(last_version)\n",
    "type(last_version)"
   ]
  },
  {
   "cell_type": "code",
   "execution_count": 23,
   "id": "2f18ebbe",
   "metadata": {},
   "outputs": [
    {
     "name": "stdout",
     "output_type": "stream",
     "text": [
      "there are  20 versions of the Pokemon game\n"
     ]
    }
   ],
   "source": [
    "print(\"there are \", last_version['url'][-3:-1], \"versions of the Pokemon game\")"
   ]
  },
  {
   "cell_type": "code",
   "execution_count": 24,
   "id": "8ec92e6e",
   "metadata": {},
   "outputs": [
    {
     "name": "stdout",
     "output_type": "stream",
     "text": [
      "<Response [200]>\n"
     ]
    },
    {
     "data": {
      "text/plain": [
       "dict_keys(['ability', 'berry', 'berry-firmness', 'berry-flavor', 'characteristic', 'contest-effect', 'contest-type', 'egg-group', 'encounter-condition', 'encounter-condition-value', 'encounter-method', 'evolution-chain', 'evolution-trigger', 'gender', 'generation', 'growth-rate', 'item', 'item-attribute', 'item-category', 'item-fling-effect', 'item-pocket', 'language', 'location', 'location-area', 'machine', 'move', 'move-ailment', 'move-battle-style', 'move-category', 'move-damage-class', 'move-learn-method', 'move-target', 'nature', 'pal-park-area', 'pokeathlon-stat', 'pokedex', 'pokemon', 'pokemon-color', 'pokemon-form', 'pokemon-habitat', 'pokemon-shape', 'pokemon-species', 'region', 'stat', 'super-contest-effect', 'type', 'version', 'version-group'])"
      ]
     },
     "execution_count": 24,
     "metadata": {},
     "output_type": "execute_result"
    }
   ],
   "source": [
    "url = \"https://pokeapi.co/api/v2\"\n",
    "response = requests.get(url)\n",
    "print(response)\n",
    "full_api = response.json()\n",
    "full_api.keys()"
   ]
  },
  {
   "cell_type": "code",
   "execution_count": 25,
   "id": "3e5a732f",
   "metadata": {},
   "outputs": [
    {
     "data": {
      "text/plain": [
       "'https://pokeapi.co/api/v2/type/'"
      ]
     },
     "execution_count": 25,
     "metadata": {},
     "output_type": "execute_result"
    }
   ],
   "source": [
    "full_api['type']"
   ]
  },
  {
   "cell_type": "code",
   "execution_count": 26,
   "id": "8697d4de",
   "metadata": {},
   "outputs": [
    {
     "name": "stdout",
     "output_type": "stream",
     "text": [
      "<Response [200]>\n"
     ]
    },
    {
     "data": {
      "text/plain": [
       "dict_keys(['count', 'next', 'previous', 'results'])"
      ]
     },
     "execution_count": 26,
     "metadata": {},
     "output_type": "execute_result"
    }
   ],
   "source": [
    "url = \"https://pokeapi.co/api/v2/type\"\n",
    "response = requests.get(url)\n",
    "print(response)\n",
    "type_ = response.json()\n",
    "type_.keys()"
   ]
  },
  {
   "cell_type": "code",
   "execution_count": 27,
   "id": "750d8533",
   "metadata": {},
   "outputs": [
    {
     "data": {
      "text/plain": [
       "[{'name': 'normal', 'url': 'https://pokeapi.co/api/v2/type/1/'},\n",
       " {'name': 'fighting', 'url': 'https://pokeapi.co/api/v2/type/2/'},\n",
       " {'name': 'flying', 'url': 'https://pokeapi.co/api/v2/type/3/'},\n",
       " {'name': 'poison', 'url': 'https://pokeapi.co/api/v2/type/4/'},\n",
       " {'name': 'ground', 'url': 'https://pokeapi.co/api/v2/type/5/'},\n",
       " {'name': 'rock', 'url': 'https://pokeapi.co/api/v2/type/6/'},\n",
       " {'name': 'bug', 'url': 'https://pokeapi.co/api/v2/type/7/'},\n",
       " {'name': 'ghost', 'url': 'https://pokeapi.co/api/v2/type/8/'},\n",
       " {'name': 'steel', 'url': 'https://pokeapi.co/api/v2/type/9/'},\n",
       " {'name': 'fire', 'url': 'https://pokeapi.co/api/v2/type/10/'},\n",
       " {'name': 'water', 'url': 'https://pokeapi.co/api/v2/type/11/'},\n",
       " {'name': 'grass', 'url': 'https://pokeapi.co/api/v2/type/12/'},\n",
       " {'name': 'electric', 'url': 'https://pokeapi.co/api/v2/type/13/'},\n",
       " {'name': 'psychic', 'url': 'https://pokeapi.co/api/v2/type/14/'},\n",
       " {'name': 'ice', 'url': 'https://pokeapi.co/api/v2/type/15/'},\n",
       " {'name': 'dragon', 'url': 'https://pokeapi.co/api/v2/type/16/'},\n",
       " {'name': 'dark', 'url': 'https://pokeapi.co/api/v2/type/17/'},\n",
       " {'name': 'fairy', 'url': 'https://pokeapi.co/api/v2/type/18/'},\n",
       " {'name': 'unknown', 'url': 'https://pokeapi.co/api/v2/type/10001/'},\n",
       " {'name': 'shadow', 'url': 'https://pokeapi.co/api/v2/type/10002/'}]"
      ]
     },
     "execution_count": 27,
     "metadata": {},
     "output_type": "execute_result"
    }
   ],
   "source": [
    "type_['results']"
   ]
  },
  {
   "cell_type": "code",
   "execution_count": 28,
   "id": "9f666ea9",
   "metadata": {},
   "outputs": [
    {
     "data": {
      "text/plain": [
       "20"
      ]
     },
     "execution_count": 28,
     "metadata": {},
     "output_type": "execute_result"
    }
   ],
   "source": [
    "len(type_['results'])"
   ]
  },
  {
   "cell_type": "code",
   "execution_count": 37,
   "id": "d29f9718",
   "metadata": {},
   "outputs": [
    {
     "name": "stdout",
     "output_type": "stream",
     "text": [
      "https://pokeapi.co/api/v2/type/13/\n"
     ]
    }
   ],
   "source": [
    "for result in type_['results']:\n",
    "    if result['name'] == 'electric':\n",
    "        url = result['url']\n",
    "print(url)"
   ]
  },
  {
   "cell_type": "code",
   "execution_count": 41,
   "id": "198a0ea4",
   "metadata": {},
   "outputs": [],
   "source": [
    "response = requests.get(url)\n",
    "electric_poke = response.json()"
   ]
  },
  {
   "cell_type": "code",
   "execution_count": 42,
   "id": "fffb1a57",
   "metadata": {},
   "outputs": [
    {
     "data": {
      "text/plain": [
       "dict_keys(['damage_relations', 'game_indices', 'generation', 'id', 'move_damage_class', 'moves', 'name', 'names', 'past_damage_relations', 'pokemon'])"
      ]
     },
     "execution_count": 42,
     "metadata": {},
     "output_type": "execute_result"
    }
   ],
   "source": [
    "electric_poke.keys()"
   ]
  },
  {
   "cell_type": "code",
   "execution_count": 2,
   "id": "d9188e2d",
   "metadata": {},
   "outputs": [
    {
     "ename": "NameError",
     "evalue": "name 'electric_poke' is not defined",
     "output_type": "error",
     "traceback": [
      "\u001b[0;31m---------------------------------------------------------------------------\u001b[0m",
      "\u001b[0;31mNameError\u001b[0m                                 Traceback (most recent call last)",
      "Cell \u001b[0;32mIn[2], line 4\u001b[0m\n\u001b[1;32m      1\u001b[0m \u001b[38;5;66;03m# terrible way :)\u001b[39;00m\n\u001b[0;32m----> 4\u001b[0m [name[\u001b[38;5;124m'\u001b[39m\u001b[38;5;124mname\u001b[39m\u001b[38;5;124m'\u001b[39m] \u001b[38;5;28;01mfor\u001b[39;00m name \u001b[38;5;129;01min\u001b[39;00m \u001b[43melectric_poke\u001b[49m[\u001b[38;5;124m'\u001b[39m\u001b[38;5;124mnames\u001b[39m\u001b[38;5;124m'\u001b[39m] \u001b[38;5;28;01mif\u001b[39;00m name[\u001b[38;5;124m'\u001b[39m\u001b[38;5;124mlanguage\u001b[39m\u001b[38;5;124m'\u001b[39m][\u001b[38;5;124m'\u001b[39m\u001b[38;5;124mname\u001b[39m\u001b[38;5;124m'\u001b[39m] \u001b[38;5;241m==\u001b[39m \u001b[38;5;124m'\u001b[39m\u001b[38;5;124mko\u001b[39m\u001b[38;5;124m'\u001b[39m][\u001b[38;5;241m0\u001b[39m]\n",
      "\u001b[0;31mNameError\u001b[0m: name 'electric_poke' is not defined"
     ]
    }
   ],
   "source": [
    "# terrible way :)\n",
    "\n",
    "\n",
    "[name['name'] for name in electric_poke['names'] if name['language']['name'] == 'ko'][0]"
   ]
  },
  {
   "cell_type": "code",
   "execution_count": 43,
   "id": "f8a63f99",
   "metadata": {},
   "outputs": [
    {
     "data": {
      "text/plain": [
       "[{'pokemon': {'name': 'pikachu',\n",
       "   'url': 'https://pokeapi.co/api/v2/pokemon/25/'},\n",
       "  'slot': 1},\n",
       " {'pokemon': {'name': 'raichu',\n",
       "   'url': 'https://pokeapi.co/api/v2/pokemon/26/'},\n",
       "  'slot': 1},\n",
       " {'pokemon': {'name': 'magnemite',\n",
       "   'url': 'https://pokeapi.co/api/v2/pokemon/81/'},\n",
       "  'slot': 1},\n",
       " {'pokemon': {'name': 'magneton',\n",
       "   'url': 'https://pokeapi.co/api/v2/pokemon/82/'},\n",
       "  'slot': 1},\n",
       " {'pokemon': {'name': 'voltorb',\n",
       "   'url': 'https://pokeapi.co/api/v2/pokemon/100/'},\n",
       "  'slot': 1},\n",
       " {'pokemon': {'name': 'electrode',\n",
       "   'url': 'https://pokeapi.co/api/v2/pokemon/101/'},\n",
       "  'slot': 1},\n",
       " {'pokemon': {'name': 'electabuzz',\n",
       "   'url': 'https://pokeapi.co/api/v2/pokemon/125/'},\n",
       "  'slot': 1},\n",
       " {'pokemon': {'name': 'jolteon',\n",
       "   'url': 'https://pokeapi.co/api/v2/pokemon/135/'},\n",
       "  'slot': 1},\n",
       " {'pokemon': {'name': 'zapdos',\n",
       "   'url': 'https://pokeapi.co/api/v2/pokemon/145/'},\n",
       "  'slot': 1},\n",
       " {'pokemon': {'name': 'chinchou',\n",
       "   'url': 'https://pokeapi.co/api/v2/pokemon/170/'},\n",
       "  'slot': 2},\n",
       " {'pokemon': {'name': 'lanturn',\n",
       "   'url': 'https://pokeapi.co/api/v2/pokemon/171/'},\n",
       "  'slot': 2},\n",
       " {'pokemon': {'name': 'pichu',\n",
       "   'url': 'https://pokeapi.co/api/v2/pokemon/172/'},\n",
       "  'slot': 1},\n",
       " {'pokemon': {'name': 'mareep',\n",
       "   'url': 'https://pokeapi.co/api/v2/pokemon/179/'},\n",
       "  'slot': 1},\n",
       " {'pokemon': {'name': 'flaaffy',\n",
       "   'url': 'https://pokeapi.co/api/v2/pokemon/180/'},\n",
       "  'slot': 1},\n",
       " {'pokemon': {'name': 'ampharos',\n",
       "   'url': 'https://pokeapi.co/api/v2/pokemon/181/'},\n",
       "  'slot': 1},\n",
       " {'pokemon': {'name': 'elekid',\n",
       "   'url': 'https://pokeapi.co/api/v2/pokemon/239/'},\n",
       "  'slot': 1},\n",
       " {'pokemon': {'name': 'raikou',\n",
       "   'url': 'https://pokeapi.co/api/v2/pokemon/243/'},\n",
       "  'slot': 1},\n",
       " {'pokemon': {'name': 'electrike',\n",
       "   'url': 'https://pokeapi.co/api/v2/pokemon/309/'},\n",
       "  'slot': 1},\n",
       " {'pokemon': {'name': 'manectric',\n",
       "   'url': 'https://pokeapi.co/api/v2/pokemon/310/'},\n",
       "  'slot': 1},\n",
       " {'pokemon': {'name': 'plusle',\n",
       "   'url': 'https://pokeapi.co/api/v2/pokemon/311/'},\n",
       "  'slot': 1},\n",
       " {'pokemon': {'name': 'minun',\n",
       "   'url': 'https://pokeapi.co/api/v2/pokemon/312/'},\n",
       "  'slot': 1},\n",
       " {'pokemon': {'name': 'shinx',\n",
       "   'url': 'https://pokeapi.co/api/v2/pokemon/403/'},\n",
       "  'slot': 1},\n",
       " {'pokemon': {'name': 'luxio',\n",
       "   'url': 'https://pokeapi.co/api/v2/pokemon/404/'},\n",
       "  'slot': 1},\n",
       " {'pokemon': {'name': 'luxray',\n",
       "   'url': 'https://pokeapi.co/api/v2/pokemon/405/'},\n",
       "  'slot': 1},\n",
       " {'pokemon': {'name': 'pachirisu',\n",
       "   'url': 'https://pokeapi.co/api/v2/pokemon/417/'},\n",
       "  'slot': 1},\n",
       " {'pokemon': {'name': 'magnezone',\n",
       "   'url': 'https://pokeapi.co/api/v2/pokemon/462/'},\n",
       "  'slot': 1},\n",
       " {'pokemon': {'name': 'electivire',\n",
       "   'url': 'https://pokeapi.co/api/v2/pokemon/466/'},\n",
       "  'slot': 1},\n",
       " {'pokemon': {'name': 'rotom',\n",
       "   'url': 'https://pokeapi.co/api/v2/pokemon/479/'},\n",
       "  'slot': 1},\n",
       " {'pokemon': {'name': 'blitzle',\n",
       "   'url': 'https://pokeapi.co/api/v2/pokemon/522/'},\n",
       "  'slot': 1},\n",
       " {'pokemon': {'name': 'zebstrika',\n",
       "   'url': 'https://pokeapi.co/api/v2/pokemon/523/'},\n",
       "  'slot': 1},\n",
       " {'pokemon': {'name': 'emolga',\n",
       "   'url': 'https://pokeapi.co/api/v2/pokemon/587/'},\n",
       "  'slot': 1},\n",
       " {'pokemon': {'name': 'joltik',\n",
       "   'url': 'https://pokeapi.co/api/v2/pokemon/595/'},\n",
       "  'slot': 2},\n",
       " {'pokemon': {'name': 'galvantula',\n",
       "   'url': 'https://pokeapi.co/api/v2/pokemon/596/'},\n",
       "  'slot': 2},\n",
       " {'pokemon': {'name': 'tynamo',\n",
       "   'url': 'https://pokeapi.co/api/v2/pokemon/602/'},\n",
       "  'slot': 1},\n",
       " {'pokemon': {'name': 'eelektrik',\n",
       "   'url': 'https://pokeapi.co/api/v2/pokemon/603/'},\n",
       "  'slot': 1},\n",
       " {'pokemon': {'name': 'eelektross',\n",
       "   'url': 'https://pokeapi.co/api/v2/pokemon/604/'},\n",
       "  'slot': 1},\n",
       " {'pokemon': {'name': 'stunfisk',\n",
       "   'url': 'https://pokeapi.co/api/v2/pokemon/618/'},\n",
       "  'slot': 2},\n",
       " {'pokemon': {'name': 'thundurus-incarnate',\n",
       "   'url': 'https://pokeapi.co/api/v2/pokemon/642/'},\n",
       "  'slot': 1},\n",
       " {'pokemon': {'name': 'zekrom',\n",
       "   'url': 'https://pokeapi.co/api/v2/pokemon/644/'},\n",
       "  'slot': 2},\n",
       " {'pokemon': {'name': 'helioptile',\n",
       "   'url': 'https://pokeapi.co/api/v2/pokemon/694/'},\n",
       "  'slot': 1},\n",
       " {'pokemon': {'name': 'heliolisk',\n",
       "   'url': 'https://pokeapi.co/api/v2/pokemon/695/'},\n",
       "  'slot': 1},\n",
       " {'pokemon': {'name': 'dedenne',\n",
       "   'url': 'https://pokeapi.co/api/v2/pokemon/702/'},\n",
       "  'slot': 1},\n",
       " {'pokemon': {'name': 'charjabug',\n",
       "   'url': 'https://pokeapi.co/api/v2/pokemon/737/'},\n",
       "  'slot': 2},\n",
       " {'pokemon': {'name': 'vikavolt',\n",
       "   'url': 'https://pokeapi.co/api/v2/pokemon/738/'},\n",
       "  'slot': 2},\n",
       " {'pokemon': {'name': 'togedemaru',\n",
       "   'url': 'https://pokeapi.co/api/v2/pokemon/777/'},\n",
       "  'slot': 1},\n",
       " {'pokemon': {'name': 'tapu-koko',\n",
       "   'url': 'https://pokeapi.co/api/v2/pokemon/785/'},\n",
       "  'slot': 1},\n",
       " {'pokemon': {'name': 'xurkitree',\n",
       "   'url': 'https://pokeapi.co/api/v2/pokemon/796/'},\n",
       "  'slot': 1},\n",
       " {'pokemon': {'name': 'zeraora',\n",
       "   'url': 'https://pokeapi.co/api/v2/pokemon/807/'},\n",
       "  'slot': 1},\n",
       " {'pokemon': {'name': 'yamper',\n",
       "   'url': 'https://pokeapi.co/api/v2/pokemon/835/'},\n",
       "  'slot': 1},\n",
       " {'pokemon': {'name': 'boltund',\n",
       "   'url': 'https://pokeapi.co/api/v2/pokemon/836/'},\n",
       "  'slot': 1},\n",
       " {'pokemon': {'name': 'toxel',\n",
       "   'url': 'https://pokeapi.co/api/v2/pokemon/848/'},\n",
       "  'slot': 1},\n",
       " {'pokemon': {'name': 'toxtricity-amped',\n",
       "   'url': 'https://pokeapi.co/api/v2/pokemon/849/'},\n",
       "  'slot': 1},\n",
       " {'pokemon': {'name': 'pincurchin',\n",
       "   'url': 'https://pokeapi.co/api/v2/pokemon/871/'},\n",
       "  'slot': 1},\n",
       " {'pokemon': {'name': 'morpeko-full-belly',\n",
       "   'url': 'https://pokeapi.co/api/v2/pokemon/877/'},\n",
       "  'slot': 1},\n",
       " {'pokemon': {'name': 'dracozolt',\n",
       "   'url': 'https://pokeapi.co/api/v2/pokemon/880/'},\n",
       "  'slot': 1},\n",
       " {'pokemon': {'name': 'arctozolt',\n",
       "   'url': 'https://pokeapi.co/api/v2/pokemon/881/'},\n",
       "  'slot': 1},\n",
       " {'pokemon': {'name': 'regieleki',\n",
       "   'url': 'https://pokeapi.co/api/v2/pokemon/894/'},\n",
       "  'slot': 1},\n",
       " {'pokemon': {'name': 'pawmi',\n",
       "   'url': 'https://pokeapi.co/api/v2/pokemon/921/'},\n",
       "  'slot': 1},\n",
       " {'pokemon': {'name': 'pawmo',\n",
       "   'url': 'https://pokeapi.co/api/v2/pokemon/922/'},\n",
       "  'slot': 1},\n",
       " {'pokemon': {'name': 'pawmot',\n",
       "   'url': 'https://pokeapi.co/api/v2/pokemon/923/'},\n",
       "  'slot': 1},\n",
       " {'pokemon': {'name': 'tadbulb',\n",
       "   'url': 'https://pokeapi.co/api/v2/pokemon/938/'},\n",
       "  'slot': 1},\n",
       " {'pokemon': {'name': 'bellibolt',\n",
       "   'url': 'https://pokeapi.co/api/v2/pokemon/939/'},\n",
       "  'slot': 1},\n",
       " {'pokemon': {'name': 'wattrel',\n",
       "   'url': 'https://pokeapi.co/api/v2/pokemon/940/'},\n",
       "  'slot': 1},\n",
       " {'pokemon': {'name': 'kilowattrel',\n",
       "   'url': 'https://pokeapi.co/api/v2/pokemon/941/'},\n",
       "  'slot': 1},\n",
       " {'pokemon': {'name': 'sandy-shocks',\n",
       "   'url': 'https://pokeapi.co/api/v2/pokemon/989/'},\n",
       "  'slot': 1},\n",
       " {'pokemon': {'name': 'iron-hands',\n",
       "   'url': 'https://pokeapi.co/api/v2/pokemon/992/'},\n",
       "  'slot': 2},\n",
       " {'pokemon': {'name': 'iron-thorns',\n",
       "   'url': 'https://pokeapi.co/api/v2/pokemon/995/'},\n",
       "  'slot': 2},\n",
       " {'pokemon': {'name': 'miraidon',\n",
       "   'url': 'https://pokeapi.co/api/v2/pokemon/1008/'},\n",
       "  'slot': 1},\n",
       " {'pokemon': {'name': 'rotom-heat',\n",
       "   'url': 'https://pokeapi.co/api/v2/pokemon/10008/'},\n",
       "  'slot': 1},\n",
       " {'pokemon': {'name': 'rotom-wash',\n",
       "   'url': 'https://pokeapi.co/api/v2/pokemon/10009/'},\n",
       "  'slot': 1},\n",
       " {'pokemon': {'name': 'rotom-frost',\n",
       "   'url': 'https://pokeapi.co/api/v2/pokemon/10010/'},\n",
       "  'slot': 1},\n",
       " {'pokemon': {'name': 'rotom-fan',\n",
       "   'url': 'https://pokeapi.co/api/v2/pokemon/10011/'},\n",
       "  'slot': 1},\n",
       " {'pokemon': {'name': 'rotom-mow',\n",
       "   'url': 'https://pokeapi.co/api/v2/pokemon/10012/'},\n",
       "  'slot': 1},\n",
       " {'pokemon': {'name': 'thundurus-therian',\n",
       "   'url': 'https://pokeapi.co/api/v2/pokemon/10020/'},\n",
       "  'slot': 1},\n",
       " {'pokemon': {'name': 'ampharos-mega',\n",
       "   'url': 'https://pokeapi.co/api/v2/pokemon/10045/'},\n",
       "  'slot': 1},\n",
       " {'pokemon': {'name': 'manectric-mega',\n",
       "   'url': 'https://pokeapi.co/api/v2/pokemon/10055/'},\n",
       "  'slot': 1},\n",
       " {'pokemon': {'name': 'pikachu-rock-star',\n",
       "   'url': 'https://pokeapi.co/api/v2/pokemon/10080/'},\n",
       "  'slot': 1},\n",
       " {'pokemon': {'name': 'pikachu-belle',\n",
       "   'url': 'https://pokeapi.co/api/v2/pokemon/10081/'},\n",
       "  'slot': 1},\n",
       " {'pokemon': {'name': 'pikachu-pop-star',\n",
       "   'url': 'https://pokeapi.co/api/v2/pokemon/10082/'},\n",
       "  'slot': 1},\n",
       " {'pokemon': {'name': 'pikachu-phd',\n",
       "   'url': 'https://pokeapi.co/api/v2/pokemon/10083/'},\n",
       "  'slot': 1},\n",
       " {'pokemon': {'name': 'pikachu-libre',\n",
       "   'url': 'https://pokeapi.co/api/v2/pokemon/10084/'},\n",
       "  'slot': 1},\n",
       " {'pokemon': {'name': 'pikachu-cosplay',\n",
       "   'url': 'https://pokeapi.co/api/v2/pokemon/10085/'},\n",
       "  'slot': 1},\n",
       " {'pokemon': {'name': 'pikachu-original-cap',\n",
       "   'url': 'https://pokeapi.co/api/v2/pokemon/10094/'},\n",
       "  'slot': 1},\n",
       " {'pokemon': {'name': 'pikachu-hoenn-cap',\n",
       "   'url': 'https://pokeapi.co/api/v2/pokemon/10095/'},\n",
       "  'slot': 1},\n",
       " {'pokemon': {'name': 'pikachu-sinnoh-cap',\n",
       "   'url': 'https://pokeapi.co/api/v2/pokemon/10096/'},\n",
       "  'slot': 1},\n",
       " {'pokemon': {'name': 'pikachu-unova-cap',\n",
       "   'url': 'https://pokeapi.co/api/v2/pokemon/10097/'},\n",
       "  'slot': 1},\n",
       " {'pokemon': {'name': 'pikachu-kalos-cap',\n",
       "   'url': 'https://pokeapi.co/api/v2/pokemon/10098/'},\n",
       "  'slot': 1},\n",
       " {'pokemon': {'name': 'pikachu-alola-cap',\n",
       "   'url': 'https://pokeapi.co/api/v2/pokemon/10099/'},\n",
       "  'slot': 1},\n",
       " {'pokemon': {'name': 'raichu-alola',\n",
       "   'url': 'https://pokeapi.co/api/v2/pokemon/10100/'},\n",
       "  'slot': 1},\n",
       " {'pokemon': {'name': 'geodude-alola',\n",
       "   'url': 'https://pokeapi.co/api/v2/pokemon/10109/'},\n",
       "  'slot': 2},\n",
       " {'pokemon': {'name': 'graveler-alola',\n",
       "   'url': 'https://pokeapi.co/api/v2/pokemon/10110/'},\n",
       "  'slot': 2},\n",
       " {'pokemon': {'name': 'golem-alola',\n",
       "   'url': 'https://pokeapi.co/api/v2/pokemon/10111/'},\n",
       "  'slot': 2},\n",
       " {'pokemon': {'name': 'vikavolt-totem',\n",
       "   'url': 'https://pokeapi.co/api/v2/pokemon/10122/'},\n",
       "  'slot': 2},\n",
       " {'pokemon': {'name': 'oricorio-pom-pom',\n",
       "   'url': 'https://pokeapi.co/api/v2/pokemon/10123/'},\n",
       "  'slot': 1},\n",
       " {'pokemon': {'name': 'pikachu-partner-cap',\n",
       "   'url': 'https://pokeapi.co/api/v2/pokemon/10148/'},\n",
       "  'slot': 1},\n",
       " {'pokemon': {'name': 'togedemaru-totem',\n",
       "   'url': 'https://pokeapi.co/api/v2/pokemon/10154/'},\n",
       "  'slot': 1},\n",
       " {'pokemon': {'name': 'pikachu-starter',\n",
       "   'url': 'https://pokeapi.co/api/v2/pokemon/10158/'},\n",
       "  'slot': 1},\n",
       " {'pokemon': {'name': 'pikachu-world-cap',\n",
       "   'url': 'https://pokeapi.co/api/v2/pokemon/10160/'},\n",
       "  'slot': 1},\n",
       " {'pokemon': {'name': 'toxtricity-low-key',\n",
       "   'url': 'https://pokeapi.co/api/v2/pokemon/10184/'},\n",
       "  'slot': 1},\n",
       " {'pokemon': {'name': 'morpeko-hangry',\n",
       "   'url': 'https://pokeapi.co/api/v2/pokemon/10187/'},\n",
       "  'slot': 1},\n",
       " {'pokemon': {'name': 'pikachu-gmax',\n",
       "   'url': 'https://pokeapi.co/api/v2/pokemon/10199/'},\n",
       "  'slot': 1},\n",
       " {'pokemon': {'name': 'toxtricity-amped-gmax',\n",
       "   'url': 'https://pokeapi.co/api/v2/pokemon/10219/'},\n",
       "  'slot': 1},\n",
       " {'pokemon': {'name': 'toxtricity-low-key-gmax',\n",
       "   'url': 'https://pokeapi.co/api/v2/pokemon/10228/'},\n",
       "  'slot': 1},\n",
       " {'pokemon': {'name': 'voltorb-hisui',\n",
       "   'url': 'https://pokeapi.co/api/v2/pokemon/10231/'},\n",
       "  'slot': 1},\n",
       " {'pokemon': {'name': 'electrode-hisui',\n",
       "   'url': 'https://pokeapi.co/api/v2/pokemon/10232/'},\n",
       "  'slot': 1},\n",
       " {'pokemon': {'name': 'miraidon-low-power-mode',\n",
       "   'url': 'https://pokeapi.co/api/v2/pokemon/10268/'},\n",
       "  'slot': 1},\n",
       " {'pokemon': {'name': 'miraidon-drive-mode',\n",
       "   'url': 'https://pokeapi.co/api/v2/pokemon/10269/'},\n",
       "  'slot': 1},\n",
       " {'pokemon': {'name': 'miraidon-aquatic-mode',\n",
       "   'url': 'https://pokeapi.co/api/v2/pokemon/10270/'},\n",
       "  'slot': 1},\n",
       " {'pokemon': {'name': 'miraidon-glide-mode',\n",
       "   'url': 'https://pokeapi.co/api/v2/pokemon/10271/'},\n",
       "  'slot': 1}]"
      ]
     },
     "execution_count": 43,
     "metadata": {},
     "output_type": "execute_result"
    }
   ],
   "source": [
    "electric_poke['pokemon']"
   ]
  },
  {
   "cell_type": "code",
   "execution_count": 44,
   "id": "3bd089aa",
   "metadata": {},
   "outputs": [
    {
     "name": "stdout",
     "output_type": "stream",
     "text": [
      "pikachu\n",
      "raichu\n",
      "magnemite\n",
      "magneton\n",
      "voltorb\n",
      "electrode\n",
      "electabuzz\n",
      "jolteon\n",
      "zapdos\n",
      "chinchou\n",
      "lanturn\n",
      "pichu\n",
      "mareep\n",
      "flaaffy\n",
      "ampharos\n",
      "elekid\n",
      "raikou\n",
      "electrike\n",
      "manectric\n",
      "plusle\n",
      "minun\n",
      "shinx\n",
      "luxio\n",
      "luxray\n",
      "pachirisu\n",
      "magnezone\n",
      "electivire\n",
      "rotom\n",
      "blitzle\n",
      "zebstrika\n",
      "emolga\n",
      "joltik\n",
      "galvantula\n",
      "tynamo\n",
      "eelektrik\n",
      "eelektross\n",
      "stunfisk\n",
      "thundurus-incarnate\n",
      "zekrom\n",
      "helioptile\n",
      "heliolisk\n",
      "dedenne\n",
      "charjabug\n",
      "vikavolt\n",
      "togedemaru\n",
      "tapu-koko\n",
      "xurkitree\n",
      "zeraora\n",
      "yamper\n",
      "boltund\n",
      "toxel\n",
      "toxtricity-amped\n",
      "pincurchin\n",
      "morpeko-full-belly\n",
      "dracozolt\n",
      "arctozolt\n",
      "regieleki\n",
      "pawmi\n",
      "pawmo\n",
      "pawmot\n",
      "tadbulb\n",
      "bellibolt\n",
      "wattrel\n",
      "kilowattrel\n",
      "sandy-shocks\n",
      "iron-hands\n",
      "iron-thorns\n",
      "miraidon\n",
      "rotom-heat\n",
      "rotom-wash\n",
      "rotom-frost\n",
      "rotom-fan\n",
      "rotom-mow\n",
      "thundurus-therian\n",
      "ampharos-mega\n",
      "manectric-mega\n",
      "pikachu-rock-star\n",
      "pikachu-belle\n",
      "pikachu-pop-star\n",
      "pikachu-phd\n",
      "pikachu-libre\n",
      "pikachu-cosplay\n",
      "pikachu-original-cap\n",
      "pikachu-hoenn-cap\n",
      "pikachu-sinnoh-cap\n",
      "pikachu-unova-cap\n",
      "pikachu-kalos-cap\n",
      "pikachu-alola-cap\n",
      "raichu-alola\n",
      "geodude-alola\n",
      "graveler-alola\n",
      "golem-alola\n",
      "vikavolt-totem\n",
      "oricorio-pom-pom\n",
      "pikachu-partner-cap\n",
      "togedemaru-totem\n",
      "pikachu-starter\n",
      "pikachu-world-cap\n",
      "toxtricity-low-key\n",
      "morpeko-hangry\n",
      "pikachu-gmax\n",
      "toxtricity-amped-gmax\n",
      "toxtricity-low-key-gmax\n",
      "voltorb-hisui\n",
      "electrode-hisui\n",
      "miraidon-low-power-mode\n",
      "miraidon-drive-mode\n",
      "miraidon-aquatic-mode\n",
      "miraidon-glide-mode\n"
     ]
    }
   ],
   "source": [
    "for each_poke in electric_poke['pokemon']:\n",
    "    print(each_poke['pokemon']['name'])"
   ]
  },
  {
   "cell_type": "code",
   "execution_count": 45,
   "id": "8548a9c7",
   "metadata": {},
   "outputs": [
    {
     "name": "stdout",
     "output_type": "stream",
     "text": [
      "Electric pokemon in Korean are called:  전기\n"
     ]
    }
   ],
   "source": [
    "for names in electric_poke['names']:\n",
    "    if (names['language']['name'] == 'ko'):\n",
    "        print(\"Electric pokemon in Korean are called: \", names['name'])"
   ]
  },
  {
   "cell_type": "code",
   "execution_count": 60,
   "id": "ca0924a7",
   "metadata": {},
   "outputs": [],
   "source": [
    "url = 'https://pokeapi.co/api/v2/pokemon/pikachu'\n",
    "response = requests.get(url)\n",
    "pikachu = response.json()\n",
    "\n",
    "url = 'https://pokeapi.co/api/v2/pokemon/eevee'\n",
    "response = requests.get(url)\n",
    "eevie = response.json()\n"
   ]
  },
  {
   "cell_type": "code",
   "execution_count": 61,
   "id": "090a7781",
   "metadata": {},
   "outputs": [
    {
     "data": {
      "text/plain": [
       "dict_keys(['abilities', 'base_experience', 'forms', 'game_indices', 'height', 'held_items', 'id', 'is_default', 'location_area_encounters', 'moves', 'name', 'order', 'past_types', 'species', 'sprites', 'stats', 'types', 'weight'])"
      ]
     },
     "execution_count": 61,
     "metadata": {},
     "output_type": "execute_result"
    }
   ],
   "source": [
    "pikachu.keys()"
   ]
  },
  {
   "cell_type": "code",
   "execution_count": 67,
   "id": "92516752",
   "metadata": {},
   "outputs": [],
   "source": [
    "for stats in pikachu['stats']:\n",
    "    if stats['stat']['name'] == 'speed':\n",
    "        speed_url = stats['stat']['url']"
   ]
  },
  {
   "cell_type": "code",
   "execution_count": 69,
   "id": "929a5fbb",
   "metadata": {},
   "outputs": [
    {
     "name": "stdout",
     "output_type": "stream",
     "text": [
      "https://pokeapi.co/api/v2/stat/6/\n"
     ]
    }
   ],
   "source": [
    "print(speed_url)"
   ]
  },
  {
   "cell_type": "code",
   "execution_count": null,
   "id": "f546f7c6",
   "metadata": {},
   "outputs": [],
   "source": [
    "# ##### ok, still trying to figure out where the speed stat lives"
   ]
  }
 ],
 "metadata": {
  "kernelspec": {
   "display_name": "Python 3 (ipykernel)",
   "language": "python",
   "name": "python3"
  },
  "language_info": {
   "codemirror_mode": {
    "name": "ipython",
    "version": 3
   },
   "file_extension": ".py",
   "mimetype": "text/x-python",
   "name": "python",
   "nbconvert_exporter": "python",
   "pygments_lexer": "ipython3",
   "version": "3.10.11"
  }
 },
 "nbformat": 4,
 "nbformat_minor": 5
}
